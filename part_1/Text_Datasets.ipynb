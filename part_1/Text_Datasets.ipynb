{
 "cells": [
  {
   "cell_type": "code",
   "execution_count": 24,
   "metadata": {},
   "outputs": [],
   "source": [
    "#@title Imports\n",
    "import numpy as np\n",
    "import matplotlib.pyplot as plt\n",
    "from collections import defaultdict\n",
    "import requests\n",
    "from random import randint, choice, shuffle, seed, sample\n",
    "\n",
    "letters = \"$abcdefghijklmnopqrstuvwxyz_\""
   ]
  },
  {
   "cell_type": "markdown",
   "metadata": {},
   "source": [
    "# Process data"
   ]
  },
  {
   "cell_type": "markdown",
   "metadata": {},
   "source": [
    "I have a website, so I figured I could put the text file there and use the requests module to request it\n",
    "\n",
    "I am using British Roads for this, see below:"
   ]
  },
  {
   "cell_type": "code",
   "execution_count": 25,
   "metadata": {},
   "outputs": [],
   "source": [
    "url = \"http://www.aayanarish.com/ml_datasets/british_roads.txt\""
   ]
  },
  {
   "cell_type": "code",
   "execution_count": 26,
   "metadata": {},
   "outputs": [],
   "source": [
    "txt = requests.get(url).text.splitlines()\n",
    "shuffle(txt)"
   ]
  },
  {
   "cell_type": "code",
   "execution_count": 27,
   "metadata": {},
   "outputs": [],
   "source": [
    "# now, find frequencies of words\n",
    "\n",
    "cnt = defaultdict(int)\n",
    "lettercnt = defaultdict(int)\n",
    "for word in txt:\n",
    "    cnt[f\"${word[0]}\"] += 1\n",
    "    cnt[f\"{word[-1]}$\"] += 1\n",
    "    lettercnt[\"$\"] += 2\n",
    "    for i in range(len(word)-1):\n",
    "        lettercnt[word[i]] += 1\n",
    "        cnt[word[i:i+2]] += 1\n",
    "    lettercnt[word[-1]] += 1\n"
   ]
  },
  {
   "cell_type": "markdown",
   "metadata": {},
   "source": [
    "# Display Data"
   ]
  },
  {
   "cell_type": "code",
   "execution_count": 28,
   "metadata": {},
   "outputs": [
    {
     "name": "stdout",
     "output_type": "stream",
     "text": [
      "28 Tokens: '$abcdefghijklmnopqrstuvwxyz_'\n",
      "Number of words: 95439\n",
      "Sample words:\n",
      "culham_close\n",
      "lime_avenue\n",
      "southfield_mount\n",
      "teulon_close\n",
      "luxted_road\n",
      "north_cliff_road\n",
      "chestnut_road\n",
      "eastwell_close\n",
      "weir_hall_avenue\n",
      "onslow_close\n",
      "willow_garth_lane\n",
      "cherry_view\n",
      "nunhead_grove\n",
      "crossfield_road\n",
      "charnwood_street\n"
     ]
    }
   ],
   "source": [
    "print(len(letters), \" Tokens: \\'\", letters, \"\\'\", sep=\"\")\n",
    "print(\"Number of words:\", len(txt))\n",
    "print(\"Sample words:\")\n",
    "print(*txt[:15], sep=\"\\n\")"
   ]
  },
  {
   "cell_type": "markdown",
   "metadata": {},
   "source": [
    "matrix of bigram frequencies, + a 3d plot display\n",
    "\n",
    "the code is a little messy but it works"
   ]
  },
  {
   "cell_type": "code",
   "execution_count": 29,
   "metadata": {},
   "outputs": [
    {
     "name": "stdout",
     "output_type": "stream",
     "text": [
      "       $      a      b      c      d      e      f      g      h      i      j      k      l      m      n      o      p      q      r      s      t      u      v      w      x      y      z      _      \n",
      "$      0   4690   9953   9487   3565   2946   3488   4286   6992    751    783   2156   5167   6007   2417   2002   4532    365   4654   8341   4522    481    977   6573      1    262     41      0 \n",
      "a     79     17    886   6886  23405    112    332   1293    139   1952     16   1219  10300   4066  13930      6    984     10  17335   3551   4428    775   8332   1199    265   6347    293   2267 \n",
      "b      8   3488    410      7     62   4177      5      5     18   1016      0      1   1008      6      6   2286      0      0   4489    138     36   2548      0     45      0    993      0    147 \n",
      "c      1   2945      7    114     13   8273      7      5   5459    411      0   3909  13295      7      5   7248      0      7   5390      8    456    494      0      1      0    157      2    214 \n",
      "d  20876   3165    366    231    675   8930    398   1906    448   1271      2     12   1088    364    151   2481     47      1   5491   1879     37    697     78    655      0    384      0  11443 \n",
      "e  38691   4854    705   1263   2201  14053    460    594    395    744      2     69   9470   1146  21704    307    531     24  14397   8362  13042    113   1029   4885    346   5123     36  19087 \n",
      "f     91   1390      1      3     11   1124    853      2      3   3496      0      0    433      7      3   2963      3      0    706     13   1558    171      1      4      0     17      0    302 \n",
      "g     56   5992    155     28    205   3815    274    168   2388    505      0      3   1298    104    176    831     19      0   6416    795   1109    303     13    258      0     50      1   1526 \n",
      "h   1158   7622    320    174    134   5423    380     94      8   4578      1      6    316    279    212   4382     16      0    281    110    521   1508     68    443      0    298      0   4874 \n",
      "i      0   1354    236   2094   3175   4929    749   1778      8      2      2     80   6618    715   9226    882    451      7   2107   2753   2249     75   5359     23    110      0     92    100 \n",
      "j      1    314      0      0      0    191      0      0      1     16      0      0      0      0      0    311      0      0      0      0      0    182      0      0      0      0      0      2 \n",
      "k   3057    121    123     23    139   2835    268     28    345   1525      0      2    673    104    267     51     13      0     51    780     96      8     46    380      0     78      0   5102 \n",
      "l    921  12928    934    357   5200  12929    503    230    164   4187      2   2551  10334   1374    228  14701    183      2    102   1268   1224    471    557    461      4   1215      4   6699 \n",
      "m     45   4090   1353    100     65   5590    171     16     85   2048      0      2    210    431     58   3856    838      0     82    546     23    347     10    131      2    157      0   3009 \n",
      "n    779   1507    750   1553   5662  10081    537   5545    777   1405     11   1063    477    320   1505   2117     37     12    181   6906   6240   7332    264    559      4    391     31  15643 \n",
      "o      2  21455    469   1188   3878    241   1451    195    209    147      9   1209   4138   1735  12824   5836   1004      0  10205  13768   1933   7504   4231   3825    485    626     24    521 \n",
      "p     53   3897     30     33     52   2692     14     19    468   1017      1     12   3828     30     21   1092    880      0   1299    446    439    210      0     82      0     82      0    472 \n",
      "q      0      0      2      0      0      0      0      0      0      0      0      0      0      1      0      0      0      0      0      0      0   1569      0      0      0      0      0      1 \n",
      "r    164   6518    760   1613   7676  21723    765    650    301  11086      6   3035   1962   1086   3695  31793    494     17   3509   3212   7561    959    333    585      1   3010     33   6678 \n",
      "s   6819   1776    774   3059    462  15532    466    115   3364   1798      2    306   1076    515    115   2476    954   1008     10   1896  19576    766     89   1169      0    277      0   8552 \n",
      "t  17173   2260    251    515     60   7015    387     64   7844   1440      5     33   1368    282    164   8313     50      0  12655    965   2436    666     47    497      0    480     61   7342 \n",
      "u      6   1248    251    493    486   7485    128    704      9    295      1     72    989    692   2673     10    371      0   7667   1650   1813      1     36      1    101     16      4     76 \n",
      "v      0   1028      0      2      0  18427      0      0      0   2958      0      0      0      0      5    333      1      0     16      1      0     51      0      0      0    114      0     13 \n",
      "w   1213   9030    189     90    180   3562    120     30   1012   2275      0    160    410     53    872   4210     62      4    243   2349    246      3      7      2      0    413      0   2073 \n",
      "x      0     88     69     47     15     70     85     22    102     18      0      0    103     33      2     70      8      0      1     12    212      1      1     49      0      1      0    312 \n",
      "y   4246    691    219    317    683    430    325     71     96     10      1     87    523    288   1015    223    103      0    240    650    388      3     48    155      1      1      1  10007 \n",
      "z      0    146      2      1      1    312      0      7      4     35      2      0     17      2      2     36      2      0     20      1      0      4      0      8      0      2     13     24 \n",
      "_      0   7810   1684  18750   5071    736    989   8661   2567    188    172    128   4632   3618    413    296   5586    116  21678  12552   2228     36   1423   6818      1    328      5      2 \n"
     ]
    },
    {
     "data": {
      "image/png": "[encoded data removed]",
      "text/plain": [
       "<Figure size 800x300 with 1 Axes>"
      ]
     },
     "metadata": {},
     "output_type": "display_data"
    }
   ],
   "source": [
    "fig = plt.figure(figsize=(8, 3))\n",
    "ax = fig.add_subplot(111, projection='3d')\n",
    "\n",
    "print(\"       \", end=\"\")\n",
    "for x in letters:\n",
    "    print(x, end=\"      \")\n",
    "print()\n",
    "\n",
    "grid = []\n",
    "for i in range(len(letters)):\n",
    "    print(letters[i], end=\" \")\n",
    "    l = []\n",
    "    for j in range(len(letters)):\n",
    "        count = cnt[letters[i] + letters[j]]\n",
    "        l.append(np.sqrt(count+1))\n",
    "        print(\"{:6d}\".format(count), end=\" \")\n",
    "        ax.bar3d(i, j, 1, 1, 1, count, shade=True, color=\"green\")\n",
    "    grid.append(l)\n",
    "    print()\n",
    "ax.view_init(elev=30, azim=30)\n"
   ]
  },
  {
   "cell_type": "markdown",
   "metadata": {},
   "source": [
    "matrix of bigram probabilities"
   ]
  },
  {
   "cell_type": "code",
   "execution_count": 30,
   "metadata": {},
   "outputs": [
    {
     "name": "stdout",
     "output_type": "stream",
     "text": [
      "       $      a      b      c      d      e      f      g      h      i      j      k      l      m      n      o      p      q      r      s      t      u      v      w      x      y      z      _      \n",
      "$  .0000  .0491  .1043  .0994  .0374  .0309  .0365  .0449  .0733  .0079  .0082  .0226  .0541  .0629  .0253  .0210  .0475  .0038  .0488  .0874  .0474  .0050  .0102  .0689  .0000  .0027  .0004  .0000  \n",
      "a  .0007  .0002  .0080  .0624  .2120  .0010  .0030  .0117  .0013  .0177  .0001  .0110  .0933  .0368  .1262  .0001  .0089  .0001  .1570  .0322  .0401  .0070  .0755  .0109  .0024  .0575  .0027  .0205  \n",
      "b  .0004  .1669  .0196  .0003  .0030  .1999  .0002  .0002  .0009  .0486  .0000  .0000  .0482  .0003  .0003  .1094  .0000  .0000  .2148  .0066  .0017  .1219  .0000  .0022  .0000  .0475  .0000  .0070  \n",
      "c  .0000  .0608  .0001  .0024  .0003  .1708  .0001  .0001  .1127  .0085  .0000  .0807  .2745  .0001  .0001  .1497  .0000  .0001  .1113  .0002  .0094  .0102  .0000  .0000  .0000  .0032  .0000  .0044  \n",
      "d  .3310  .0502  .0058  .0037  .0107  .1416  .0063  .0302  .0071  .0202  .0000  .0002  .0172  .0058  .0024  .0393  .0007  .0000  .0871  .0298  .0006  .0111  .0012  .0104  .0000  .0061  .0000  .1814  \n",
      "e  .2364  .0297  .0043  .0077  .0135  .0859  .0028  .0036  .0024  .0045  .0000  .0004  .0579  .0070  .1326  .0019  .0032  .0001  .0880  .0511  .0797  .0007  .0063  .0299  .0021  .0313  .0002  .1166  \n",
      "f  .0069  .1057  .0001  .0002  .0008  .0854  .0648  .0002  .0002  .2658  .0000  .0000  .0329  .0005  .0002  .2252  .0002  .0000  .0537  .0010  .1184  .0130  .0001  .0003  .0000  .0013  .0000  .0230  \n",
      "g  .0021  .2262  .0059  .0011  .0077  .1440  .0103  .0063  .0902  .0191  .0000  .0001  .0490  .0039  .0066  .0314  .0007  .0000  .2422  .0300  .0419  .0114  .0005  .0097  .0000  .0019  .0000  .0576  \n",
      "h  .0349  .2295  .0096  .0052  .0040  .1633  .0114  .0028  .0002  .1379  .0000  .0002  .0095  .0084  .0064  .1320  .0005  .0000  .0085  .0033  .0157  .0454  .0020  .0133  .0000  .0090  .0000  .1468  \n",
      "i  .0000  .0300  .0052  .0464  .0703  .1091  .0166  .0394  .0002  .0000  .0000  .0018  .1465  .0158  .2042  .0195  .0100  .0002  .0466  .0609  .0498  .0017  .1186  .0005  .0024  .0000  .0020  .0022  \n",
      "j  .0010  .3084  .0000  .0000  .0000  .1876  .0000  .0000  .0010  .0157  .0000  .0000  .0000  .0000  .0000  .3055  .0000  .0000  .0000  .0000  .0000  .1788  .0000  .0000  .0000  .0000  .0000  .0020  \n",
      "k  .1897  .0075  .0076  .0014  .0086  .1759  .0166  .0017  .0214  .0946  .0000  .0001  .0418  .0065  .0166  .0032  .0008  .0000  .0032  .0484  .0060  .0005  .0029  .0236  .0000  .0048  .0000  .3166  \n",
      "l  .0116  .1621  .0117  .0045  .0652  .1622  .0063  .0029  .0021  .0525  .0000  .0320  .1296  .0172  .0029  .1844  .0023  .0000  .0013  .0159  .0154  .0059  .0070  .0058  .0001  .0152  .0001  .0840  \n",
      "m  .0019  .1758  .0582  .0043  .0028  .2403  .0074  .0007  .0037  .0880  .0000  .0001  .0090  .0185  .0025  .1657  .0360  .0000  .0035  .0235  .0010  .0149  .0004  .0056  .0001  .0067  .0000  .1293  \n",
      "n  .0109  .0210  .0105  .0217  .0790  .1406  .0075  .0773  .0108  .0196  .0002  .0148  .0067  .0045  .0210  .0295  .0005  .0002  .0025  .0963  .0870  .1023  .0037  .0078  .0001  .0055  .0004  .2182  \n",
      "o  .0000  .2165  .0047  .0120  .0391  .0024  .0146  .0020  .0021  .0015  .0001  .0122  .0418  .0175  .1294  .0589  .0101  .0000  .1030  .1389  .0195  .0757  .0427  .0386  .0049  .0063  .0002  .0053  \n",
      "p  .0031  .2270  .0017  .0019  .0030  .1568  .0008  .0011  .0273  .0592  .0001  .0007  .2230  .0017  .0012  .0636  .0513  .0000  .0757  .0260  .0256  .0122  .0000  .0048  .0000  .0048  .0000  .0275  \n",
      "q  .0000  .0000  .0013  .0000  .0000  .0000  .0000  .0000  .0000  .0000  .0000  .0000  .0000  .0006  .0000  .0000  .0000  .0000  .0000  .0000  .0000  .9975  .0000  .0000  .0000  .0000  .0000  .0006  \n",
      "r  .0014  .0547  .0064  .0135  .0644  .1822  .0064  .0055  .0025  .0930  .0001  .0255  .0165  .0091  .0310  .2667  .0041  .0001  .0294  .0269  .0634  .0080  .0028  .0049  .0000  .0252  .0003  .0560  \n",
      "s  .0935  .0243  .0106  .0419  .0063  .2129  .0064  .0016  .0461  .0246  .0000  .0042  .0147  .0071  .0016  .0339  .0131  .0138  .0001  .0260  .2683  .0105  .0012  .0160  .0000  .0038  .0000  .1172  \n",
      "t  .2373  .0312  .0035  .0071  .0008  .0969  .0053  .0009  .1084  .0199  .0001  .0005  .0189  .0039  .0023  .1149  .0007  .0000  .1749  .0133  .0337  .0092  .0006  .0069  .0000  .0066  .0008  .1014  \n",
      "u  .0002  .0458  .0092  .0181  .0178  .2744  .0047  .0258  .0003  .0108  .0000  .0026  .0363  .0254  .0980  .0004  .0136  .0000  .2811  .0605  .0665  .0000  .0013  .0000  .0037  .0006  .0001  .0028  \n",
      "v  .0000  .0448  .0000  .0001  .0000  .8030  .0000  .0000  .0000  .1289  .0000  .0000  .0000  .0000  .0002  .0145  .0000  .0000  .0007  .0000  .0000  .0022  .0000  .0000  .0000  .0050  .0000  .0006  \n",
      "w  .0421  .3135  .0066  .0031  .0062  .1236  .0042  .0010  .0351  .0790  .0000  .0056  .0142  .0018  .0303  .1461  .0022  .0001  .0084  .0815  .0085  .0001  .0002  .0001  .0000  .0143  .0000  .0720  \n",
      "x  .0000  .0666  .0522  .0356  .0114  .0530  .0643  .0167  .0772  .0136  .0000  .0000  .0780  .0250  .0015  .0530  .0061  .0000  .0008  .0091  .1605  .0008  .0008  .0371  .0000  .0008  .0000  .2362  \n",
      "y  .2039  .0332  .0105  .0152  .0328  .0207  .0156  .0034  .0046  .0005  .0000  .0042  .0251  .0138  .0487  .0107  .0049  .0000  .0115  .0312  .0186  .0001  .0023  .0074  .0000  .0000  .0000  .4806  \n",
      "z  .0000  .2278  .0031  .0016  .0016  .4867  .0000  .0109  .0062  .0546  .0031  .0000  .0265  .0031  .0031  .0562  .0031  .0000  .0312  .0016  .0000  .0062  .0000  .0125  .0000  .0031  .0203  .0374  \n",
      "_  .0000  .0733  .0158  .1761  .0476  .0069  .0093  .0813  .0241  .0018  .0016  .0012  .0435  .0340  .0039  .0028  .0525  .0011  .2036  .1179  .0209  .0003  .0134  .0640  .0000  .0031  .0000  .0000  \n"
     ]
    }
   ],
   "source": [
    "print(\"       \", end=\"\")\n",
    "for x in letters:\n",
    "    print(x, end=\"      \")\n",
    "print()\n",
    "\n",
    "total = defaultdict(int)\n",
    "for l1 in letters:\n",
    "    for l2 in letters:\n",
    "        total[l1] += cnt[l1 + l2]\n",
    "\n",
    "for i in range(len(letters)):\n",
    "    print(letters[i], end=\"  \")\n",
    "    if total[letters[i]] == 0:\n",
    "        for j in range(len(letters)):\n",
    "            print(\"{:.4f} \".format(0)[1:], end=\" \")\n",
    "    else:    \n",
    "        for j in range(len(letters)):\n",
    "            count = cnt[letters[i] + letters[j]] / total[letters[i]]\n",
    "            print(\"{:.4f} \".format(count)[1:], end=\" \")\n",
    "    print()\n"
   ]
  },
  {
   "cell_type": "markdown",
   "metadata": {},
   "source": [
    "heatmap view of the square root of the bigram frequencies\n",
    "\n",
    "if I didn't square root, the large outliers (such as $s, a string starting with s) would make the normal differences impossible to view"
   ]
  },
  {
   "cell_type": "code",
   "execution_count": 31,
   "metadata": {},
   "outputs": [
    {
     "data": {
      "text/plain": [
       "<matplotlib.image.AxesImage at 0x13a52ad40>"
      ]
     },
     "execution_count": 31,
     "metadata": {},
     "output_type": "execute_result"
    },
    {
     "data": {
      "image/png": "[encoded data removed]",
      "text/plain": [
       "<Figure size 640x480 with 1 Axes>"
      ]
     },
     "metadata": {},
     "output_type": "display_data"
    }
   ],
   "source": [
    "plt.imshow(grid)"
   ]
  },
  {
   "cell_type": "markdown",
   "metadata": {},
   "source": [
    "Distribution of letter frequencies"
   ]
  },
  {
   "cell_type": "code",
   "execution_count": 32,
   "metadata": {},
   "outputs": [
    {
     "data": {
      "text/plain": [
       "<BarContainer object of 28 artists>"
      ]
     },
     "execution_count": 32,
     "metadata": {},
     "output_type": "execute_result"
    },
    {
     "data": {
      "image/png": "[encoded data removed]",
      "text/plain": [
       "<Figure size 640x480 with 1 Axes>"
      ]
     },
     "metadata": {},
     "output_type": "display_data"
    }
   ],
   "source": [
    "xs = np.array(list(letters))\n",
    "ys = np.array(list(lettercnt.values()))\n",
    "rgs = np.argsort(ys)\n",
    "sm = np.sum(ys)\n",
    "ys = ys / sm\n",
    "plt.bar(xs[rgs], ys[rgs])"
   ]
  },
  {
   "cell_type": "markdown",
   "metadata": {},
   "source": [
    "Entropy!"
   ]
  },
  {
   "cell_type": "code",
   "execution_count": 33,
   "metadata": {},
   "outputs": [
    {
     "name": "stdout",
     "output_type": "stream",
     "text": [
      "e^(2.9265458968955027) = 18.663054919588447\n"
     ]
    }
   ],
   "source": [
    "print(f\"e^({-np.sum(ys * np.log(ys))}) = {pow(np.e, -np.sum(ys * np.log(ys)))}\")"
   ]
  },
  {
   "cell_type": "markdown",
   "metadata": {},
   "source": [
    "# Model Class"
   ]
  },
  {
   "cell_type": "code",
   "execution_count": 34,
   "metadata": {},
   "outputs": [],
   "source": [
    "def get_token_dict(tokens):\n",
    "    '''\n",
    "    given a list of tokens, returns a dict of token to index in the array\n",
    "    '''\n",
    "    token_dct = {}\n",
    "    for i in range(len(tokens)):\n",
    "        token_dct[tokens[i]] = i\n",
    "    return token_dct"
   ]
  },
  {
   "cell_type": "markdown",
   "metadata": {},
   "source": [
    "I made an abstract class which RandomWriter subclasses, in case in the future we make different text models but reuse the same testing architechture.\n",
    "\n",
    "It's probably pointless, but theres no harm in doing so."
   ]
  },
  {
   "cell_type": "code",
   "execution_count": 35,
   "metadata": {},
   "outputs": [],
   "source": [
    "class Model:\n",
    "    '''\n",
    "    abstract class for different prediction models, \n",
    "    so I can reuse test code with no changes\n",
    "    '''\n",
    "    def __init__(self, tokens):\n",
    "        '''\n",
    "        tokens is a list of tokens in order. They will be represented as numbers, and the tokens[i] is the token that the number i represents\n",
    "        '''\n",
    "        self.tokens = tokens\n",
    "        self.token_dct = get_token_dict(tokens)\n",
    "        \n",
    "    def train(self, words):\n",
    "        '''\n",
    "        Trains the model using the given words  \n",
    "        words: a list of words to train on\n",
    "        '''\n",
    "        pass\n",
    "\n",
    "    def predict(self, block):\n",
    "        '''\n",
    "        Should return a token probability distribution for a given block of tokens\n",
    "        block: the block to predict on\n",
    "        '''\n",
    "        pass\n",
    "\n",
    "    def predict_next_token(self, word:str):\n",
    "        pass\n",
    "\n",
    "    def evaluate(self, words):\n",
    "        pass"
   ]
  },
  {
   "cell_type": "code",
   "execution_count": 36,
   "metadata": {},
   "outputs": [],
   "source": [
    "class RandomWriter(Model):\n",
    "    '''\n",
    "    Sample Model Class\n",
    "\n",
    "    uses the RandomWriter approach of predicting a letter based on its frequency in the given data\n",
    "    '''\n",
    "    def __init__(self, tokens, block_size=2, rng_seed=None, reg_val=0.0001):\n",
    "        super().__init__(tokens)\n",
    "        self.block_size = block_size\n",
    "        self.mat = np.zeros([len(tokens)]*(block_size+1), dtype=np.int32) + reg_val\n",
    "        if (rng_seed):\n",
    "            self.rng = np.random.default_rng(rng_seed)\n",
    "        else:\n",
    "            self.rng = np.random.default_rng()\n",
    "    \n",
    "    def tokenize(self, word):\n",
    "        return tuple([self.token_dct[i] for i in word])\n",
    "    \n",
    "    def trim(self, word):\n",
    "        # trim a word down. \n",
    "        if len(word) > self.block_size:\n",
    "            word = word[-self.block_size:]\n",
    "        if len(word) < self.block_size:\n",
    "            word = word.rjust(self.block_size, \"$\") # credit to jasper for telling me about this function\n",
    "        return word\n",
    "    \n",
    "    def pad(self, word):\n",
    "        return (\"$\"*(self.block_size)) + word + \"$\"\n",
    "    \n",
    "    def train(self, wordlist):\n",
    "        for word in wordlist:\n",
    "            w = self.pad(word)\n",
    "            for i in range(len(w)-self.block_size):\n",
    "                block = w[i:i+self.block_size+1]\n",
    "                block = [self.token_dct[i] for i in block]\n",
    "                self.mat[tuple(block)] += 1\n",
    "\n",
    "    def predict(self, block):\n",
    "        if (np.sum(block) == 0):\n",
    "            return np.ones((len(self.tokens)))/len(self.tokens)\n",
    "        return self.mat[block]/np.sum(self.mat[block])\n",
    "    \n",
    "    def predict_next_token(self, word):\n",
    "        word = self.trim(word)\n",
    "        block = tuple([self.token_dct[i] for i in word])\n",
    "        return self.tokens[self.rng.choice(len(self.tokens), p=self.predict(block))]\n",
    "\n",
    "    def evaluate_primitive(self, words):\n",
    "        cases = 0\n",
    "        correct = 0\n",
    "        for word in words:\n",
    "            wrd = self.pad(word)\n",
    "            for x in range(len(wrd)-self.block_size-1):\n",
    "                w = wrd[x:x+self.block_size]\n",
    "                t2 = self.predict_next_token(w)\n",
    "                if(t2 == wrd[x+self.block_size]):\n",
    "                    correct += 1\n",
    "                cases += 1\n",
    "        return correct/cases\n",
    "    \n",
    "    def evaluate(self, words):\n",
    "        ans = np.zeros((len(words)))\n",
    "        ind = 0\n",
    "        for word in words:\n",
    "            wrd = self.pad(word)\n",
    "            prob = 0\n",
    "            for x in range(len(wrd)-self.block_size-1):\n",
    "                w = wrd[x:x+self.block_size]\n",
    "                t2 = self.predict(self.tokenize(w))\n",
    "                # print(self.tokenize(wrd[x+self.block_size]))\n",
    "                prob -= np.log(t2[self.tokenize(wrd[x+self.block_size])[0]])\n",
    "            ans[ind] = prob/(len(wrd)-self.block_size-1)\n",
    "            ind += 1\n",
    "        return np.mean(ans)\n",
    "\n"
   ]
  },
  {
   "cell_type": "markdown",
   "metadata": {},
   "source": [
    "# Playing with Model"
   ]
  },
  {
   "cell_type": "code",
   "execution_count": 37,
   "metadata": {},
   "outputs": [],
   "source": [
    "model = RandomWriter(list(letters), block_size=3)\n",
    "model.train(txt)"
   ]
  },
  {
   "cell_type": "code",
   "execution_count": 38,
   "metadata": {},
   "outputs": [
    {
     "data": {
      "text/plain": [
       "array([3.47218846e-07, 6.94472415e-03, 5.72911444e-01, 3.47218846e-07,\n",
       "       1.04169126e-02, 2.49997917e-01, 3.47218846e-07, 3.47218846e-07,\n",
       "       3.47218846e-07, 7.98606819e-02, 3.47218846e-07, 3.47218846e-07,\n",
       "       1.04169126e-02, 3.47218846e-07, 1.04169126e-02, 1.38891011e-02,\n",
       "       3.47218846e-07, 3.47218846e-07, 3.47222319e-02, 3.47253568e-03,\n",
       "       3.47218846e-07, 3.47218846e-07, 3.47218846e-07, 3.47218846e-07,\n",
       "       3.47218846e-07, 6.94472415e-03, 3.47218846e-07, 3.47218846e-07])"
      ]
     },
     "execution_count": 38,
     "metadata": {},
     "output_type": "execute_result"
    }
   ],
   "source": [
    "# predict on: $ab\n",
    "model.predict((0, 1, 2))"
   ]
  },
  {
   "cell_type": "code",
   "execution_count": 39,
   "metadata": {},
   "outputs": [
    {
     "name": "stdout",
     "output_type": "stream",
     "text": [
      "thom_\n",
      "thom_r\n",
      "thom_ro\n",
      "thom_roa\n",
      "thom_road\n",
      "thom_road$\n"
     ]
    }
   ],
   "source": [
    "# starting string\n",
    "w = \"thom\"\n",
    "\n",
    "# generate more and more data until stopping\n",
    "while w[-1] != \"$\":\n",
    "    w += model.predict_next_token(w)\n",
    "    print(w)"
   ]
  },
  {
   "cell_type": "markdown",
   "metadata": {},
   "source": [
    "# Testing Model"
   ]
  },
  {
   "cell_type": "code",
   "execution_count": 40,
   "metadata": {},
   "outputs": [],
   "source": [
    "# CREDIT: JASPER\n",
    "# split dataset into train and test\n",
    "def train_test_split(words, train_frac = 0.8, rng_seed=18):\n",
    "    words = list(words)\n",
    "    seed(rng_seed)\n",
    "    shuffle(words)\n",
    "    split_idx = int(len(words) * train_frac)\n",
    "    return words[:split_idx], words[split_idx:]"
   ]
  },
  {
   "cell_type": "markdown",
   "metadata": {},
   "source": [
    "split into train and test"
   ]
  },
  {
   "cell_type": "code",
   "execution_count": 41,
   "metadata": {},
   "outputs": [
    {
     "name": "stdout",
     "output_type": "stream",
     "text": [
      "Training: 76351 Testing: 19088\n",
      "\n",
      "Some Train\n",
      "wortley_hall_close\n",
      "stone_hall_mews\n",
      "barclay_close\n",
      "centenary_street\n",
      "falloden_way\n",
      "west_walk\n",
      "godetia_close\n",
      "peter_salem_road\n",
      "portland_rise\n",
      "woodbridge_court\n",
      "\n",
      "Some Test\n",
      "duck_lees_lane\n",
      "hayfield_close\n",
      "kirklinton_drive\n",
      "chislehurst_avenue\n",
      "beeton_way\n",
      "haversham_close\n",
      "cantlow_road\n",
      "keswick_mews\n",
      "tangent_link\n",
      "oyster_row\n"
     ]
    }
   ],
   "source": [
    "train_words, test_words = train_test_split(txt)\n",
    "print(\"Training:\", len(train_words), \"Testing:\", len(test_words))\n",
    "print(\"\\nSome Train\", *train_words[:10], \"\\nSome Test\", *test_words[:10], sep=\"\\n\")"
   ]
  },
  {
   "cell_type": "markdown",
   "metadata": {},
   "source": [
    "Hyperparameter tuning time!"
   ]
  },
  {
   "cell_type": "code",
   "execution_count": 42,
   "metadata": {},
   "outputs": [],
   "source": [
    "def hyperParamTune(train_data, block_sizes, regularizations, runs=10):\n",
    "    '''\n",
    "    hyperparameter tuning for model\n",
    "    '''\n",
    "    average = defaultdict(int)\n",
    "    params = []\n",
    "    for run in range(runs):\n",
    "        train, val = train_test_split(train_data)\n",
    "        for b in block_sizes:\n",
    "            for r in regularizations:\n",
    "                model = RandomWriter(letters, block_size=b, reg_val=r)\n",
    "                model.train(train)\n",
    "                prob = model.evaluate(val)\n",
    "                average[(b, r)] += prob\n",
    "    params = [(i[0], i[1]/runs) for i in average.items()]\n",
    "    params.sort(key = lambda x: x[-1])\n",
    "    return params\n",
    "\n"
   ]
  },
  {
   "cell_type": "markdown",
   "metadata": {},
   "source": [
    "Before you say that my space of looking for regularization values is too small, I looked in a larger space first and narrowed my search to find a minimum manually. It would take way too long to run it with every possible regularization value, as that would range from `0.0001` to `0.1`."
   ]
  },
  {
   "cell_type": "code",
   "execution_count": 43,
   "metadata": {},
   "outputs": [
    {
     "name": "stdout",
     "output_type": "stream",
     "text": [
      "((4, 0.04), 1.3017951355794724)\n",
      "((4, 0.0375), 1.3018024380401252)\n",
      "((4, 0.0425), 1.3018651222592534)\n",
      "((4, 0.035), 1.3018999254774957)\n",
      "((4, 0.045), 1.3020018248409329)\n",
      "((5, 0.035), 1.3200775364370545)\n",
      "((5, 0.0375), 1.320840246770867)\n",
      "((5, 0.04), 1.3217060569678765)\n",
      "((5, 0.0425), 1.322657983317083)\n",
      "((5, 0.045), 1.3236822307516933)\n",
      "((3, 0.045), 1.4284953627192758)\n",
      "((3, 0.0425), 1.4286779710852517)\n",
      "((3, 0.04), 1.4288913549758686)\n",
      "((3, 0.0375), 1.4291397918621025)\n",
      "((3, 0.035), 1.4294284627260418)\n"
     ]
    }
   ],
   "source": [
    "print(*hyperParamTune(train_words, [3, 4, 5], [0.035, 0.0375, 0.04, 0.0425, 0.045], runs=1), sep=\"\\n\")"
   ]
  },
  {
   "cell_type": "markdown",
   "metadata": {},
   "source": [
    "Results on test with \"optimal\" hyperpameters"
   ]
  },
  {
   "cell_type": "code",
   "execution_count": 44,
   "metadata": {},
   "outputs": [],
   "source": [
    "b_size = 4\n",
    "reg = 0.04\n",
    "model = RandomWriter(list(letters), block_size=b_size, reg_val=reg)\n",
    "model.train(train_words)"
   ]
  },
  {
   "cell_type": "markdown",
   "metadata": {},
   "source": [
    "Entropy!"
   ]
  },
  {
   "cell_type": "code",
   "execution_count": 45,
   "metadata": {},
   "outputs": [
    {
     "name": "stdout",
     "output_type": "stream",
     "text": [
      "e^1.2928869226543565 = 3.643289282544582\n"
     ]
    }
   ],
   "source": [
    "prob = model.evaluate(test_words)\n",
    "print(f\"e^{prob} = {pow(np.e, prob)}\")"
   ]
  },
  {
   "cell_type": "markdown",
   "metadata": {},
   "source": [
    "Some real results on test data, it is quite bad"
   ]
  },
  {
   "cell_type": "code",
   "execution_count": 46,
   "metadata": {},
   "outputs": [
    {
     "name": "stdout",
     "output_type": "stream",
     "text": [
      "Actual: grimsel_path               || Predicted: grimrkvmqxvjfpphwioh_fogaqyzywrfwsbbhszakcrn__xcpxelqyck$\n",
      "Actual: wilberforce_close          || Predicted: wilbfyrlji_zztliexaoxomtr_gglpiedivjijgiucqncayqgcolddj_qlhrve$\n",
      "Actual: gauntlett_road             || Predicted: gaunyoxmbyzx$\n",
      "Actual: swanbourne_drive           || Predicted: swanyepx$\n",
      "Actual: holt_drive                 || Predicted: holtwskimskynftu$\n",
      "Actual: lancaster_mews             || Predicted: lancldodjrvvvzxzuzkqqkgqxaaxzwdhegfwgvwjjzdakvbt_mspx_wdklt$\n",
      "Actual: st_alban_crescent          || Predicted: st_agnysxllxlxldqpw_d$\n",
      "Actual: laycock_place              || Predicted: laycrkczeycmppafbtsvpoij_rytgcpliosgwesleoapoym_$\n",
      "Actual: jarratt_street             || Predicted: jarrxplgldqecsukwlzwysuvvpgwoeisnxuies$\n",
      "Actual: vinnall_grove              || Predicted: vinnnbfaxdnoqtgnxxgcqpkxcjcdwsjkfbyuf$\n"
     ]
    }
   ],
   "source": [
    "sampl = sample(test_words, 10)\n",
    "for word in sampl:\n",
    "    pref = word[:b_size]\n",
    "    while pref[-1] != \"$\":\n",
    "        pref += model.predict_next_token(w)\n",
    "    print(\"Actual:\", word, (\" \"*(25-len(word))), \"|| Predicted:\", pref)"
   ]
  },
  {
   "cell_type": "markdown",
   "metadata": {},
   "source": [
    "# Resources used:\n",
    "\n",
    "https://stackoverflow.com/questions/455612/limiting-floats-to-two-decimal-points  \n",
    "https://stackoverflow.com/questions/20998083/show-the-values-in-the-grid-using-matplotlib\n",
    "\n",
    "Credit to Jasper for given me the train_test_split function, as well as generally helping with numpy syntax occasionally\n",
    "\n",
    "plus numpy and matplotlib documentation"
   ]
  },
  {
   "cell_type": "markdown",
   "metadata": {},
   "source": [
    "# Dataset credits:\n",
    "\n",
    "note I'm only using 1 of them ever at a time\n",
    "\n",
    "[British Street Names](https://overpass-turbo.eu/)  \n",
    "[Shakespeare](https://github.com/cobanov/shakespeare-dataset/tree/main)  \n",
    "[Misspelled Words](https://www.kaggle.com/datasets/rtatman/english-word-frequency)\n"
   ]
  }
 ],
 "metadata": {
  "kernelspec": {
   "display_name": "Python 3",
   "language": "python",
   "name": "python3"
  },
  "language_info": {
   "codemirror_mode": {
    "name": "ipython",
    "version": 3
   },
   "file_extension": ".py",
   "mimetype": "text/x-python",
   "name": "python",
   "nbconvert_exporter": "python",
   "pygments_lexer": "ipython3",
   "version": "3.10.6"
  }
 },
 "nbformat": 4,
 "nbformat_minor": 2
}
