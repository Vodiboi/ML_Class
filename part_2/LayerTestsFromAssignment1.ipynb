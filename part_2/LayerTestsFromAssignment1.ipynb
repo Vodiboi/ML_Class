{
  "cells": [
    {
      "cell_type": "code",
      "execution_count": null,
      "id": "naked-minutes",
      "metadata": {
        "colab": {
          "base_uri": "https://localhost:8080/"
        },
        "id": "naked-minutes",
        "outputId": "dee640a9-aeab-48d6-bbc3-9ae1c7427c69"
      },
      "outputs": [
        {
          "name": "stdout",
          "output_type": "stream",
          "text": [
            "Drive already mounted at /content/drive; to attempt to forcibly remount, call drive.mount(\"/content/drive\", force_remount=True).\n"
          ]
        }
      ],
      "source": [
        "# This mounts your Google Drive to the Colab VM.\n",
        "ON_COLAB = 0\n",
        "if ON_COLAB:\n",
        "    from google.colab import drive # type: ignore\n",
        "    drive.mount('/content/drive')\n",
        "\n",
        "    # TODO: Enter the foldername in your Drive where you have saved the unzipped\n",
        "    # assignment folder, e.g. 'cs231n/assignments/assignment1/'\n",
        "    FOLDERNAME = 'Machine Learning Course/Assignments/assignment2'\n",
        "    assert FOLDERNAME is not None, \"[!] Enter the foldername.\"\n",
        "\n",
        "    # Now that we've mounted your Drive, this ensures that\n",
        "    # the Python interpreter of the Colab VM can load\n",
        "    # python files from within it.\n",
        "    import sys\n",
        "    sys.path.append('/content/drive/My Drive/{}'.format(FOLDERNAME))"
      ]
    },
    {
      "cell_type": "markdown",
      "id": "driving-ancient",
      "metadata": {
        "id": "driving-ancient",
        "tags": [
          "pdf-ignore"
        ]
      },
      "source": [
        "# Fully-Connected Neural Nets\n",
        "In this exercise we will implement fully-connected networks using a modular approach. For each layer we will implement a `forward` and a `backward` function. The `forward` function will receive inputs, weights, and other parameters and will return both an output and a `cache` object storing data needed for the backward pass, like this:\n",
        "\n",
        "```python\n",
        "def layer_forward(x, w):\n",
        "  \"\"\" Receive inputs x and weights w \"\"\"\n",
        "  # Do some computations ...\n",
        "  z = # ... some intermediate value\n",
        "  # Do some more computations ...\n",
        "  out = # the output\n",
        "   \n",
        "  cache = (x, w, z, out) # Values we need to compute gradients\n",
        "   \n",
        "  return out, cache\n",
        "```\n",
        "\n",
        "The backward pass will receive upstream derivatives and the `cache` object, and will return gradients with respect to the inputs and weights, like this:\n",
        "\n",
        "```python\n",
        "def layer_backward(dout, cache):\n",
        "  \"\"\"\n",
        "  Receive dout (derivative of loss with respect to outputs) and cache,\n",
        "  and compute derivative with respect to inputs.\n",
        "  \"\"\"\n",
        "  # Unpack cache values\n",
        "  x, w, z, out = cache\n",
        "  \n",
        "  # Use values in cache to compute derivatives\n",
        "  dx = # Derivative of loss with respect to x\n",
        "  dw = # Derivative of loss with respect to w\n",
        "  \n",
        "  return dx, dw\n",
        "```\n",
        "\n",
        "After implementing a bunch of layers this way, we will be able to easily combine them to build classifiers with different architectures.\n",
        "  "
      ]
    },
    {
      "cell_type": "code",
      "execution_count": 3,
      "id": "looking-helicopter",
      "metadata": {
        "colab": {
          "base_uri": "https://localhost:8080/"
        },
        "id": "looking-helicopter",
        "outputId": "65bdda62-bdca-4734-dd0e-3b7d4c82f390",
        "tags": [
          "pdf-ignore"
        ]
      },
      "outputs": [],
      "source": [
        "# As usual, a bit of setup\n",
        "from __future__ import print_function\n",
        "import time\n",
        "import numpy as np\n",
        "import matplotlib.pyplot as plt\n",
        "from cs231n.classifiers.fc_net import *\n",
        "from cs231n.data_utils import get_CIFAR10_data\n",
        "from cs231n.gradient_check import eval_numerical_gradient, eval_numerical_gradient_array\n",
        "from cs231n.solver import Solver\n",
        "\n",
        "%matplotlib inline\n",
        "plt.rcParams['figure.figsize'] = (10.0, 8.0) # set default size of plots\n",
        "plt.rcParams['image.interpolation'] = 'nearest'\n",
        "plt.rcParams['image.cmap'] = 'gray'\n",
        "\n",
        "# for auto-reloading external modules\n",
        "# see http://stackoverflow.com/questions/1907993/autoreload-of-modules-in-ipython\n",
        "%load_ext autoreload\n",
        "%autoreload 2\n",
        "\n",
        "def rel_error(x, y):\n",
        "  \"\"\" returns relative error \"\"\"\n",
        "  return np.max(np.abs(x - y) / (np.maximum(1e-8, np.abs(x) + np.abs(y))))"
      ]
    },
    {
      "cell_type": "markdown",
      "id": "monetary-perfume",
      "metadata": {
        "id": "monetary-perfume"
      },
      "source": [
        "# Affine layer: forward\n",
        "Open the file `cs231n/layers.py` and implement the `affine_forward` function.\n",
        "\n",
        "Once you are done you can test your implementaion by running the following:"
      ]
    },
    {
      "cell_type": "code",
      "execution_count": 7,
      "id": "legislative-rochester",
      "metadata": {
        "colab": {
          "base_uri": "https://localhost:8080/"
        },
        "id": "legislative-rochester",
        "outputId": "fa9fec2c-c95f-4d29-bac0-2574ccaad79c"
      },
      "outputs": [
        {
          "name": "stdout",
          "output_type": "stream",
          "text": [
            "Testing affine_forward function:\n",
            "difference:  9.769849468192957e-10\n"
          ]
        }
      ],
      "source": [
        "# Test the affine_forward function\n",
        "\n",
        "num_inputs = 2\n",
        "input_shape = (4, 5, 6)\n",
        "output_dim = 3\n",
        "\n",
        "input_size = num_inputs * np.prod(input_shape)\n",
        "weight_size = output_dim * np.prod(input_shape)\n",
        "\n",
        "x = np.linspace(-0.1, 0.5, num=input_size).reshape(num_inputs, *input_shape)\n",
        "w = np.linspace(-0.2, 0.3, num=weight_size).reshape(np.prod(input_shape), output_dim)\n",
        "b = np.linspace(-0.3, 0.1, num=output_dim)\n",
        "\n",
        "out, _ = affine_forward(x, w, b)\n",
        "correct_out = np.array([[ 1.49834967,  1.70660132,  1.91485297],\n",
        "                        [ 3.25553199,  3.5141327,   3.77273342]])\n",
        "\n",
        "# Compare your output with ours. The error should be around e-9 or less.\n",
        "print('Testing affine_forward function:')\n",
        "print('difference: ', rel_error(out, correct_out))"
      ]
    },
    {
      "cell_type": "markdown",
      "id": "intimate-february",
      "metadata": {
        "id": "intimate-february"
      },
      "source": [
        "# Affine layer: backward\n",
        "Now implement the `affine_backward` function and test your implementation using numeric gradient checking."
      ]
    },
    {
      "cell_type": "code",
      "execution_count": 18,
      "id": "comparative-qualification",
      "metadata": {
        "id": "comparative-qualification"
      },
      "outputs": [
        {
          "name": "stdout",
          "output_type": "stream",
          "text": [
            "Testing affine_backward function:\n",
            "dx error:  5.399100368651805e-11\n",
            "dw error:  9.904211865398145e-11\n",
            "db error:  2.4122867568119087e-11\n"
          ]
        }
      ],
      "source": [
        "# Test the affine_backward function\n",
        "np.random.seed(231)\n",
        "x = np.random.randn(10, 2, 3)\n",
        "w = np.random.randn(6, 5)\n",
        "b = np.random.randn(5)\n",
        "dout = np.random.randn(10, 5)\n",
        "\n",
        "dx_num = eval_numerical_gradient_array(lambda x: affine_forward(x, w, b)[0], x, dout)\n",
        "dw_num = eval_numerical_gradient_array(lambda w: affine_forward(x, w, b)[0], w, dout)\n",
        "db_num = eval_numerical_gradient_array(lambda b: affine_forward(x, w, b)[0], b, dout)\n",
        "\n",
        "_, cache = affine_forward(x, w, b)\n",
        "dx, dw, db = affine_backward(dout, cache)\n",
        "\n",
        "# The error should be around e-10 or less\n",
        "print('Testing affine_backward function:')\n",
        "print('dx error: ', rel_error(dx_num, dx))\n",
        "print('dw error: ', rel_error(dw_num, dw))\n",
        "print('db error: ', rel_error(db_num, db))"
      ]
    },
    {
      "cell_type": "markdown",
      "id": "naked-opposition",
      "metadata": {
        "id": "naked-opposition"
      },
      "source": [
        "# ReLU activation: forward\n",
        "Implement the forward pass for the ReLU activation function in the `relu_forward` function and test your implementation using the following:"
      ]
    },
    {
      "cell_type": "code",
      "execution_count": 19,
      "id": "generic-assumption",
      "metadata": {
        "id": "generic-assumption"
      },
      "outputs": [
        {
          "name": "stdout",
          "output_type": "stream",
          "text": [
            "Testing relu_forward function:\n",
            "difference:  4.999999798022158e-08\n"
          ]
        }
      ],
      "source": [
        "# Test the relu_forward function\n",
        "\n",
        "x = np.linspace(-0.5, 0.5, num=12).reshape(3, 4)\n",
        "\n",
        "out, _ = relu_forward(x)\n",
        "correct_out = np.array([[ 0.,          0.,          0.,          0.,        ],\n",
        "                        [ 0.,          0.,          0.04545455,  0.13636364,],\n",
        "                        [ 0.22727273,  0.31818182,  0.40909091,  0.5,       ]])\n",
        "\n",
        "# Compare your output with ours. The error should be on the order of e-8\n",
        "print('Testing relu_forward function:')\n",
        "print('difference: ', rel_error(out, correct_out))"
      ]
    },
    {
      "cell_type": "markdown",
      "id": "ideal-story",
      "metadata": {
        "id": "ideal-story"
      },
      "source": [
        "# ReLU activation: backward\n",
        "Now implement the backward pass for the ReLU activation function in the `relu_backward` function and test your implementation using numeric gradient checking:"
      ]
    },
    {
      "cell_type": "code",
      "execution_count": 20,
      "id": "wanted-attraction",
      "metadata": {
        "id": "wanted-attraction"
      },
      "outputs": [
        {
          "name": "stdout",
          "output_type": "stream",
          "text": [
            "Testing relu_backward function:\n",
            "dx error:  3.2756349136310288e-12\n"
          ]
        }
      ],
      "source": [
        "np.random.seed(231)\n",
        "x = np.random.randn(10, 10)\n",
        "dout = np.random.randn(*x.shape)\n",
        "\n",
        "dx_num = eval_numerical_gradient_array(lambda x: relu_forward(x)[0], x, dout)\n",
        "\n",
        "_, cache = relu_forward(x)\n",
        "dx = relu_backward(dout, cache)\n",
        "\n",
        "# The error should be on the order of e-12\n",
        "print('Testing relu_backward function:')\n",
        "print('dx error: ', rel_error(dx_num, dx))"
      ]
    },
    {
      "cell_type": "markdown",
      "id": "stuck-medicine",
      "metadata": {
        "id": "stuck-medicine"
      },
      "source": [
        "# \"Sandwich\" layers\n",
        "There are some common patterns of layers that are frequently used in neural nets. For example, affine layers are frequently followed by a ReLU nonlinearity. To make these common patterns easy, we define several convenience layers in the file `cs231n/layer_utils.py`.\n",
        "\n",
        "For now take a look at the `affine_relu_forward` and `affine_relu_backward` functions, and run the following to numerically gradient check the backward pass:"
      ]
    },
    {
      "cell_type": "code",
      "execution_count": null,
      "id": "preceding-crown",
      "metadata": {
        "id": "preceding-crown"
      },
      "outputs": [],
      "source": [
        "from cs231n.layer_utils import affine_relu_forward, affine_relu_backward\n",
        "np.random.seed(231)\n",
        "x = np.random.randn(2, 3, 4)\n",
        "w = np.random.randn(12, 10)\n",
        "b = np.random.randn(10)\n",
        "dout = np.random.randn(2, 10)\n",
        "\n",
        "out, cache = affine_relu_forward(x, w, b)\n",
        "dx, dw, db = affine_relu_backward(dout, cache)\n",
        "\n",
        "dx_num = eval_numerical_gradient_array(lambda x: affine_relu_forward(x, w, b)[0], x, dout)\n",
        "dw_num = eval_numerical_gradient_array(lambda w: affine_relu_forward(x, w, b)[0], w, dout)\n",
        "db_num = eval_numerical_gradient_array(lambda b: affine_relu_forward(x, w, b)[0], b, dout)\n",
        "\n",
        "# Relative error should be around e-10 or less\n",
        "print('Testing affine_relu_forward and affine_relu_backward:')\n",
        "print('dx error: ', rel_error(dx_num, dx))\n",
        "print('dw error: ', rel_error(dw_num, dw))\n",
        "print('db error: ', rel_error(db_num, db))"
      ]
    },
    {
      "cell_type": "markdown",
      "id": "precise-trick",
      "metadata": {
        "id": "precise-trick"
      },
      "source": [
        "# Loss layers: Softmax\n",
        "Now implement the loss and gradient for softmax in the `softmax_loss` function in `cs231n/layers.py`.\n",
        "\n",
        "You can make sure that the implementations are correct by running the following:"
      ]
    },
    {
      "cell_type": "code",
      "execution_count": 42,
      "id": "analyzed-thong",
      "metadata": {
        "id": "analyzed-thong"
      },
      "outputs": [
        {
          "name": "stdout",
          "output_type": "stream",
          "text": [
            "\n",
            "Testing softmax_loss:\n",
            "loss:  2.3025458445007376\n",
            "dx error:  8.234144091578429e-09\n"
          ]
        }
      ],
      "source": [
        "np.random.seed(231)\n",
        "num_classes, num_inputs = 10, 50\n",
        "x = 0.001 * np.random.randn(num_inputs, num_classes)\n",
        "y = np.random.randint(num_classes, size=num_inputs)\n",
        "\n",
        "\n",
        "dx_num = eval_numerical_gradient(lambda x: softmax_loss(x, y)[0], x, verbose=False)\n",
        "loss, dx = softmax_loss(x, y)\n",
        "\n",
        "# Test softmax_loss function. Loss should be close to 2.3 and dx error should be around e-8\n",
        "print('\\nTesting softmax_loss:')\n",
        "print('loss: ', loss)\n",
        "print('dx error: ', rel_error(dx_num, dx))"
      ]
    },
    {
      "cell_type": "code",
      "execution_count": null,
      "id": "220cfd47",
      "metadata": {},
      "outputs": [],
      "source": []
    }
  ],
  "metadata": {
    "colab": {
      "provenance": []
    },
    "kernelspec": {
      "display_name": "Python 3",
      "language": "python",
      "name": "python3"
    },
    "language_info": {
      "codemirror_mode": {
        "name": "ipython",
        "version": 3
      },
      "file_extension": ".py",
      "mimetype": "text/x-python",
      "name": "python",
      "nbconvert_exporter": "python",
      "pygments_lexer": "ipython3",
      "version": "3.10.6"
    }
  },
  "nbformat": 4,
  "nbformat_minor": 5
}
